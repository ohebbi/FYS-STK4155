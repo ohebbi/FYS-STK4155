{
 "cells": [
  {
   "cell_type": "markdown",
   "metadata": {},
   "source": [
    "# Solving eigenvalue problems using Neural Network"
   ]
  },
  {
   "cell_type": "markdown",
   "metadata": {},
   "source": [
    "In this jupyter notebook it will be demonstrated how we obtain our results in the report that corresponds to finding the eigenvalues of a given matrix. "
   ]
  },
  {
   "cell_type": "markdown",
   "metadata": {},
   "source": [
    "First off, we will need to import some libraries."
   ]
  },
  {
   "cell_type": "code",
   "execution_count": 1,
   "metadata": {
    "scrolled": true
   },
   "outputs": [
    {
     "name": "stderr",
     "output_type": "stream",
     "text": [
      "/home/oliver/.local/lib/python3.6/site-packages/tensorflow/python/framework/dtypes.py:516: FutureWarning: Passing (type, 1) or '1type' as a synonym of type is deprecated; in a future version of numpy, it will be understood as (type, (1,)) / '(1,)type'.\n",
      "  _np_qint8 = np.dtype([(\"qint8\", np.int8, 1)])\n",
      "/home/oliver/.local/lib/python3.6/site-packages/tensorflow/python/framework/dtypes.py:517: FutureWarning: Passing (type, 1) or '1type' as a synonym of type is deprecated; in a future version of numpy, it will be understood as (type, (1,)) / '(1,)type'.\n",
      "  _np_quint8 = np.dtype([(\"quint8\", np.uint8, 1)])\n",
      "/home/oliver/.local/lib/python3.6/site-packages/tensorflow/python/framework/dtypes.py:518: FutureWarning: Passing (type, 1) or '1type' as a synonym of type is deprecated; in a future version of numpy, it will be understood as (type, (1,)) / '(1,)type'.\n",
      "  _np_qint16 = np.dtype([(\"qint16\", np.int16, 1)])\n",
      "/home/oliver/.local/lib/python3.6/site-packages/tensorflow/python/framework/dtypes.py:519: FutureWarning: Passing (type, 1) or '1type' as a synonym of type is deprecated; in a future version of numpy, it will be understood as (type, (1,)) / '(1,)type'.\n",
      "  _np_quint16 = np.dtype([(\"quint16\", np.uint16, 1)])\n",
      "/home/oliver/.local/lib/python3.6/site-packages/tensorflow/python/framework/dtypes.py:520: FutureWarning: Passing (type, 1) or '1type' as a synonym of type is deprecated; in a future version of numpy, it will be understood as (type, (1,)) / '(1,)type'.\n",
      "  _np_qint32 = np.dtype([(\"qint32\", np.int32, 1)])\n",
      "/home/oliver/.local/lib/python3.6/site-packages/tensorflow/python/framework/dtypes.py:525: FutureWarning: Passing (type, 1) or '1type' as a synonym of type is deprecated; in a future version of numpy, it will be understood as (type, (1,)) / '(1,)type'.\n",
      "  np_resource = np.dtype([(\"resource\", np.ubyte, 1)])\n",
      "/home/oliver/.local/lib/python3.6/site-packages/tensorboard/compat/tensorflow_stub/dtypes.py:541: FutureWarning: Passing (type, 1) or '1type' as a synonym of type is deprecated; in a future version of numpy, it will be understood as (type, (1,)) / '(1,)type'.\n",
      "  _np_qint8 = np.dtype([(\"qint8\", np.int8, 1)])\n",
      "/home/oliver/.local/lib/python3.6/site-packages/tensorboard/compat/tensorflow_stub/dtypes.py:542: FutureWarning: Passing (type, 1) or '1type' as a synonym of type is deprecated; in a future version of numpy, it will be understood as (type, (1,)) / '(1,)type'.\n",
      "  _np_quint8 = np.dtype([(\"quint8\", np.uint8, 1)])\n",
      "/home/oliver/.local/lib/python3.6/site-packages/tensorboard/compat/tensorflow_stub/dtypes.py:543: FutureWarning: Passing (type, 1) or '1type' as a synonym of type is deprecated; in a future version of numpy, it will be understood as (type, (1,)) / '(1,)type'.\n",
      "  _np_qint16 = np.dtype([(\"qint16\", np.int16, 1)])\n",
      "/home/oliver/.local/lib/python3.6/site-packages/tensorboard/compat/tensorflow_stub/dtypes.py:544: FutureWarning: Passing (type, 1) or '1type' as a synonym of type is deprecated; in a future version of numpy, it will be understood as (type, (1,)) / '(1,)type'.\n",
      "  _np_quint16 = np.dtype([(\"quint16\", np.uint16, 1)])\n",
      "/home/oliver/.local/lib/python3.6/site-packages/tensorboard/compat/tensorflow_stub/dtypes.py:545: FutureWarning: Passing (type, 1) or '1type' as a synonym of type is deprecated; in a future version of numpy, it will be understood as (type, (1,)) / '(1,)type'.\n",
      "  _np_qint32 = np.dtype([(\"qint32\", np.int32, 1)])\n",
      "/home/oliver/.local/lib/python3.6/site-packages/tensorboard/compat/tensorflow_stub/dtypes.py:550: FutureWarning: Passing (type, 1) or '1type' as a synonym of type is deprecated; in a future version of numpy, it will be understood as (type, (1,)) / '(1,)type'.\n",
      "  np_resource = np.dtype([(\"resource\", np.ubyte, 1)])\n"
     ]
    }
   ],
   "source": [
    "import tensorflow as tf\n",
    "import numpy as np\n",
    "from matplotlib import cm\n",
    "from matplotlib import pyplot as plt\n",
    "from matplotlib import rc\n",
    "from mpl_toolkits.mplot3d import axes3d\n",
    "import tqdm as tqdm\n",
    "from matplotlib import rc"
   ]
  },
  {
   "cell_type": "markdown",
   "metadata": {},
   "source": [
    "Then, we would like the format of the figures to be neat and in correct font. "
   ]
  },
  {
   "cell_type": "code",
   "execution_count": 2,
   "metadata": {},
   "outputs": [],
   "source": [
    "#Latex font for plots\n",
    "rc('font', **{'family': 'serif', 'serif': ['Computer Modern']})\n",
    "rc('text', usetex=True)\n",
    "rc('font', family='serif')\n",
    "plt.rcParams.update({'font.size': 10}) # Setting all font sizes"
   ]
  },
  {
   "cell_type": "markdown",
   "metadata": {},
   "source": [
    "We can then make two different arrays where the analytical eigenvalues of one of them are already known. "
   ]
  },
  {
   "cell_type": "code",
   "execution_count": 3,
   "metadata": {},
   "outputs": [
    {
     "name": "stdout",
     "output_type": "stream",
     "text": [
      "[[ 2. -1.  0.  0.  0.  0.]\n",
      " [-1.  2. -1.  0.  0.  0.]\n",
      " [ 0. -1.  2. -1.  0.  0.]\n",
      " [ 0.  0. -1.  2. -1.  0.]\n",
      " [ 0.  0.  0. -1.  2. -1.]\n",
      " [ 0.  0.  0.  0. -1.  2.]]\n"
     ]
    }
   ],
   "source": [
    "is_it_known = True \n",
    "matrix_size = 6\n",
    "\n",
    "if is_it_known==True:\n",
    "    # Defining analytical eigenvalues\n",
    "    j = np.linspace(1,matrix_size,matrix_size)\n",
    "    jpi = j*np.pi\n",
    "    x_analytic = 2-2*tf.cos(jpi/(len(j)+1))\n",
    "    \n",
    "    # Defining a 6x6 matrix with only zeros\n",
    "    A = np.zeros((matrix_size, matrix_size))\n",
    "    \n",
    "    for i in range(0,matrix_size-1):\n",
    "        A[i][i+1] = -1\n",
    "        A[i][i] = 2\n",
    "        A[i+1][i] = -1\n",
    "\n",
    "    A[matrix_size-1][matrix_size-1] = 2\n",
    "    \n",
    "if is_it_known==False:\n",
    "    A = np.random.random_sample((matrix_size,matrix_size))\n",
    "    A = (A.T + A)/2.\n",
    "\n",
    "# Finding analytical eigenvector using Numpy\n",
    "numpy_eigenvalue, numpy_vector = np.linalg.eig(A)\n",
    "print(A)"
   ]
  },
  {
   "cell_type": "markdown",
   "metadata": {},
   "source": [
    "The program under runs the neural network and tries to estimate the eigenvalue of the matrix given above. \n",
    "\n",
    "It is worth to mention that tensorflow does not allow to reuse the tensors, so with a re-run one should also restart the kernel."
   ]
  },
  {
   "cell_type": "code",
   "execution_count": 4,
   "metadata": {
    "scrolled": true
   },
   "outputs": [
    {
     "name": "stdout",
     "output_type": "stream",
     "text": [
      "WARNING:tensorflow:From <ipython-input-4-857f60fa8d1b>:24: dense (from tensorflow.python.layers.core) is deprecated and will be removed in a future version.\n",
      "Instructions for updating:\n",
      "Use keras.layers.dense instead.\n",
      "WARNING:tensorflow:From /home/oliver/.local/lib/python3.6/site-packages/tensorflow/python/ops/init_ops.py:1251: calling VarianceScaling.__init__ (from tensorflow.python.ops.init_ops) with dtype is deprecated and will be removed in a future version.\n",
      "Instructions for updating:\n",
      "Call initializer instance with the dtype argument instead of passing it to the constructor\n",
      "WARNING:tensorflow:Entity <bound method Dense.call of <tensorflow.python.layers.core.Dense object at 0x7f58b0912d30>> could not be transformed and will be executed as-is. Please report this to the AutgoGraph team. When filing the bug, set the verbosity to 10 (on Linux, `export AUTOGRAPH_VERBOSITY=10`) and attach the full output. Cause: converting <bound method Dense.call of <tensorflow.python.layers.core.Dense object at 0x7f58b0912d30>>: AssertionError: Bad argument number for Name: 3, expecting 4\n",
      "WARNING: Entity <bound method Dense.call of <tensorflow.python.layers.core.Dense object at 0x7f58b0912d30>> could not be transformed and will be executed as-is. Please report this to the AutgoGraph team. When filing the bug, set the verbosity to 10 (on Linux, `export AUTOGRAPH_VERBOSITY=10`) and attach the full output. Cause: converting <bound method Dense.call of <tensorflow.python.layers.core.Dense object at 0x7f58b0912d30>>: AssertionError: Bad argument number for Name: 3, expecting 4\n",
      "WARNING:tensorflow:Entity <bound method Dense.call of <tensorflow.python.layers.core.Dense object at 0x7f58b0912d30>> could not be transformed and will be executed as-is. Please report this to the AutgoGraph team. When filing the bug, set the verbosity to 10 (on Linux, `export AUTOGRAPH_VERBOSITY=10`) and attach the full output. Cause: converting <bound method Dense.call of <tensorflow.python.layers.core.Dense object at 0x7f58b0912d30>>: AssertionError: Bad argument number for Name: 3, expecting 4\n"
     ]
    },
    {
     "name": "stderr",
     "output_type": "stream",
     "text": [
      "\r",
      "  0%|          | 0/100 [00:00<?, ?it/s]"
     ]
    },
    {
     "name": "stdout",
     "output_type": "stream",
     "text": [
      "WARNING: Entity <bound method Dense.call of <tensorflow.python.layers.core.Dense object at 0x7f58b0912d30>> could not be transformed and will be executed as-is. Please report this to the AutgoGraph team. When filing the bug, set the verbosity to 10 (on Linux, `export AUTOGRAPH_VERBOSITY=10`) and attach the full output. Cause: converting <bound method Dense.call of <tensorflow.python.layers.core.Dense object at 0x7f58b0912d30>>: AssertionError: Bad argument number for Name: 3, expecting 4\n",
      "WARNING:tensorflow:From /home/oliver/.local/lib/python3.6/site-packages/tensorflow/python/ops/losses/losses_impl.py:121: add_dispatch_support.<locals>.wrapper (from tensorflow.python.ops.array_ops) is deprecated and will be removed in a future version.\n",
      "Instructions for updating:\n",
      "Use tf.where in 2.0, which has the same broadcast rule as np.where\n"
     ]
    },
    {
     "name": "stderr",
     "output_type": "stream",
     "text": [
      "100%|██████████| 100/100 [15:17<00:00,  9.17s/it]\n"
     ]
    }
   ],
   "source": [
    "# Defining variables\n",
    "run_iter = 100\n",
    "num_iter = 100000\n",
    "num_hidden_neurons = [100] # Number of hidden neurons in each layer\n",
    "lambdas = np.zeros((run_iter,num_iter))\n",
    "\n",
    "I = np.identity(matrix_size)\n",
    "dt = np.ones(matrix_size)\n",
    "x0 = np.random.rand(matrix_size)\n",
    "x0 = x0/np.sqrt(np.sum(x0*x0)) #normalized\n",
    "\n",
    "# The construction phase\n",
    "I_tf = tf.convert_to_tensor(I)\n",
    "x0_tf = tf.convert_to_tensor(np.random.random_sample(size = (1,matrix_size)))\n",
    "dt_tf = tf.reshape(tf.convert_to_tensor(dt),shape=(-1,1))\n",
    "\n",
    "\n",
    "with tf.variable_scope('dnn'):\n",
    "    num_hidden_layers = np.size(num_hidden_neurons)\n",
    "\n",
    "    previous_layer = x0_tf\n",
    "\n",
    "    for l in range(num_hidden_layers):\n",
    "        current_layer = tf.layers.dense(previous_layer, num_hidden_neurons[l],activation=tf.nn.sigmoid)\n",
    "        previous_layer = current_layer\n",
    "\n",
    "    dnn_output = tf.layers.dense(previous_layer, matrix_size)\n",
    "\n",
    "def cost_func(x):\n",
    "\n",
    "    xTxA = (tf.tensordot(tf.transpose(x), x, axes=1)*A)\n",
    "    xTAxI = (1- tf.tensordot(tf.transpose(x), tf.tensordot(A, x, axes=1), axes=1))*np.eye(6)\n",
    "    f = tf.tensordot((xTxA + xTAxI), x, axes=1)\n",
    "\n",
    "    return(f)  # x(t))\n",
    "\n",
    "for runs in tqdm.tqdm(range(run_iter)):\n",
    "    with tf.name_scope('loss'):\n",
    "\n",
    "        x_trial = tf.transpose(dnn_output)  # x(t)\n",
    "        right_side = tf.transpose(cost_func(x_trial))\n",
    "        x_trial = tf.transpose(x_trial)  # x(t)\n",
    "        \n",
    "        # Define the cost function\n",
    "        loss = tf.losses.mean_squared_error(right_side, x_trial)\n",
    "\n",
    "    ## Can also use Gradient descent, but will need to uncomment learning_rate as well.\n",
    "    #learning_rate = 1e-1\n",
    "    with tf.name_scope('train'):\n",
    "        #optimizer = tf.train.GradientDescentOptimizer(learning_rate)\n",
    "        optimizer = tf.train.AdamOptimizer()\n",
    "        \n",
    "        training_op = optimizer.minimize(loss)\n",
    "\n",
    "    init = tf.global_variables_initializer()\n",
    "\n",
    "    x_dnn = None\n",
    "\n",
    "    num_iter_needed = []\n",
    "    x_trial_list = np.zeros((num_iter,6))\n",
    "    ## The execution phase\n",
    "    with tf.Session() as sess:\n",
    "        init.run()\n",
    "        for i in range(num_iter):\n",
    "            sess.run(training_op)\n",
    "\n",
    "            eigenvalue = (x_trial.eval() @ (A @ x_trial.eval().T)\n",
    "                        /(x_trial.eval() @ x_trial.eval().T))[0,0]\n",
    "\n",
    "            lambdas[runs][i] = eigenvalue\n",
    "\n",
    "            x_dnn = x_trial.eval()\n",
    "            x_dnn = x_dnn.T\n",
    "\n",
    "            ## Normalize g_trials for comparing to normalized numpy solution\n",
    "            x_dnn = x_dnn/np.sqrt(np.sum(x_dnn*x_dnn))\n",
    "            l = loss.eval()\n",
    "            \n",
    "            #if i % 1000 == 0:\n",
    "                #print(\"Step:\", i, \"/\",num_iter, \"loss: \", l, \"Eigenvalue:\" , eigenvalue)\n",
    "            if l==0:#<1e-16:\n",
    "                x_trial_list[i:]=x_trial_list[i-1]\n",
    "                lambdas[runs][i:]=eigenvalue\n",
    "                num_iter_needed.append(i)\n",
    "                break\n",
    "\n",
    "            for l in range(matrix_size):\n",
    "                x_trial_list[i][l] =  x_dnn[l]"
   ]
  },
  {
   "cell_type": "markdown",
   "metadata": {},
   "source": [
    "Next up is visualization of the result."
   ]
  },
  {
   "cell_type": "code",
   "execution_count": 21,
   "metadata": {
    "scrolled": false
   },
   "outputs": [
    {
     "name": "stdout",
     "output_type": "stream",
     "text": [
      "\n",
      " Numpy Eigenvalues: \n",
      " [3.80193774 3.2469796  2.44504187 0.19806226 1.55495813 0.7530204 ]\n",
      "\n",
      " Final Numerical Eigenvalue \n",
      " 1.5549581320873735\n",
      "\n",
      "\n",
      "Absolute difference between Numpy Eigenvalue and TensorFlow DNN =  2.6645352591003757e-15\n",
      "numpy vec: [ 0.41790651 -0.52112089 -0.23192061 -0.41790651  0.23192061  0.52112089]\n",
      "computed vec [[ 0.5211209   0.2319206  -0.41790654 -0.41790648  0.23192064  0.52112087]]\n"
     ]
    },
    {
     "data": {
      "image/png": "[encoded data removed]",
      "text/plain": [
       "<Figure size 333.418x324 with 1 Axes>"
      ]
     },
     "metadata": {
      "needs_background": "light"
     },
     "output_type": "display_data"
    },
    {
     "data": {
      "image/png": "[encoded data removed]",
      "text/plain": [
       "<Figure size 333.418x324 with 1 Axes>"
      ]
     },
     "metadata": {
      "needs_background": "light"
     },
     "output_type": "display_data"
    }
   ],
   "source": [
    "# Visualization\n",
    "color=iter(cm.rainbow(np.linspace(1,0,5)))\n",
    "c = next(color)\n",
    "fig = plt.figure();\n",
    "w = 5.78851          # Latex document text width\n",
    "fig.set_size_inches(w=w*0.8,h= 4.5)\n",
    "tmp_xaxis = 30000\n",
    "tmp_xaxis1 = 1000\n",
    "for k in range(matrix_size):\n",
    "    \n",
    "    if k==0:\n",
    "        plt.plot(np.linspace(1,tmp_xaxis1,tmp_xaxis1),x_trial_list[:tmp_xaxis1,k],c=c,label=\"%2.5f\" % eigenvalue,linewidth=0.9)\n",
    "    else:\n",
    "        plt.plot(np.linspace(1,tmp_xaxis1,tmp_xaxis1),x_trial_list[:tmp_xaxis1,k],c=c,linewidth=0.9)\n",
    "\n",
    "## Compare with the analytical solution\n",
    "print(\"\\n Numpy Eigenvalues: \\n\", numpy_eigenvalue)\n",
    "print(\"\\n Final Numerical Eigenvalue \\n\", eigenvalue)\n",
    "diff = np.min(abs(numpy_eigenvalue - eigenvalue))\n",
    "print(\"\\n\")\n",
    "print('Absolute difference between Numpy Eigenvalue and TensorFlow DNN = ',np.max(diff))\n",
    "\n",
    "# Finding which element of analytic our estimated eigenvalue converges to\n",
    "index = np.argmin(abs(numpy_eigenvalue - eigenvalue))\n",
    "\n",
    "print(\"numpy vec:\", numpy_vector[index])\n",
    "print(\"computed vec\",x_dnn.T)\n",
    "\n",
    "c = next(color)\n",
    "for l in range(matrix_size):\n",
    "    plt.hlines(numpy_vector[index][l],0,tmp_xaxis1,colors=c,linestyles=\"dashed\",linewidth=2)\n",
    "    if l==(matrix_size-1):\n",
    "        plt.hlines(-numpy_vector[index][l],0,tmp_xaxis1,colors=c,linestyles=\"dashed\",label=\"%2.5f\" % numpy_eigenvalue[index],linewidth=2)\n",
    "        break\n",
    "    plt.hlines(-numpy_vector[index][l],0,tmp_xaxis1,colors=c,linestyles=\"dashed\",linewidth=2)\n",
    "plt.xlabel(\"Number of iterations\")\n",
    "plt.ylabel(\"Value of the elements of the estimated eigenvector\")\n",
    "plt.legend()\n",
    "plt.title(\"Convergence of the estimated eigenvector\")\n",
    "plt.savefig(\"plots/eigenvalue_solver/convergence_eigenvector.pgf\")\n",
    "\n",
    "plt.show()\n",
    "\n",
    "color=iter(cm.rainbow(np.linspace(1,0,run_iter+1)))\n",
    "fig = plt.figure();\n",
    "w = 5.78851          # Latex document text width\n",
    "fig.set_size_inches(w=w*0.8,h= 4.5)\n",
    "\n",
    "\n",
    "iterations=np.linspace(1,tmp_xaxis,tmp_xaxis)\n",
    "for i in range(runs+1):\n",
    "    plt.plot(iterations,lambdas[i][:tmp_xaxis],c=c)\n",
    "    c=next(color)\n",
    "\n",
    "for l in range(matrix_size):\n",
    "    plt.hlines(numpy_eigenvalue[l],0,num_iter,colors=c,linestyles=\"dashed\",label=\"%2.5f\" % numpy_eigenvalue[l],linewidth=2,)\n",
    "plt.legend(loc=\"center right\")\n",
    "plt.xlabel(\"Number of iterations\")\n",
    "plt.ylabel(\"Value of the estimated eigenvalue\")\n",
    "plt.title(\"Convergence of the estimated eigenvalue\")\n",
    "plt.savefig(\"plots/eigenvalue_solver/convergence_eigenvalue.pgf\")\n",
    "plt.show()"
   ]
  },
  {
   "cell_type": "markdown",
   "metadata": {},
   "source": [
    "As seen, the values in the estimated eigenvector does not exactly converge towards numpys eigenvector when we are using a random symmetric matrix, but does however yield the exact eigenvalue. It is the eigenvalue that we are after, and since it is exact, we do not dwell about the values in the eigenvector. "
   ]
  },
  {
   "cell_type": "code",
   "execution_count": 23,
   "metadata": {},
   "outputs": [
    {
     "name": "stdout",
     "output_type": "stream",
     "text": [
      "Number of mean iterations needed: 1682.0\n"
     ]
    },
    {
     "data": {
      "image/png": "[encoded data removed]",
      "text/plain": [
       "<Figure size 333.418x324 with 1 Axes>"
      ]
     },
     "metadata": {
      "needs_background": "light"
     },
     "output_type": "display_data"
    }
   ],
   "source": [
    "import seaborn as sns\n",
    "fig = plt.figure();\n",
    "w = 5.78851          # Latex document text width\n",
    "fig.set_size_inches(w=w*0.8,h= 4.5)\n",
    "\n",
    "plt.xlabel(\"Counts of each eigenvalue\")\n",
    "plt.ylabel(\"Eigenvalues\")\n",
    "plt.title(\"Distribution of eigenvalues after %2.0f runs\" %(run_iter))\n",
    "data= np.reshape(lambdas[:,-1],[1,int(run_iter)])\n",
    "sns.distplot(data,kde=False, norm_hist=False, bins = 20, rug=True,vertical=True)\n",
    "plt.savefig(\"plots/eigenvalue_solver/histogram.pgf\")\n",
    "\n",
    "print(\"Number of mean iterations needed:\", np.mean(num_iter_needed))"
   ]
  },
  {
   "cell_type": "code",
   "execution_count": null,
   "metadata": {},
   "outputs": [],
   "source": []
  }
 ],
 "metadata": {
  "kernelspec": {
   "display_name": "Python 3",
   "language": "python",
   "name": "python3"
  },
  "language_info": {
   "codemirror_mode": {
    "name": "ipython",
    "version": 3
   },
   "file_extension": ".py",
   "mimetype": "text/x-python",
   "name": "python",
   "nbconvert_exporter": "python",
   "pygments_lexer": "ipython3",
   "version": "3.6.9"
  }
 },
 "nbformat": 4,
 "nbformat_minor": 2
}
