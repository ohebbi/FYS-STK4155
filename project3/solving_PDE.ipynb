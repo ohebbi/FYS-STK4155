{
 "cells": [
  {
   "cell_type": "markdown",
   "metadata": {},
   "source": [
    "# PDE solvers"
   ]
  },
  {
   "cell_type": "markdown",
   "metadata": {},
   "source": [
    "This Jupyter notebook implements several different methods that solve the differential equation \n",
    "$$\\frac{\\partial^2 u(x,t)}{\\partial x^2} = \\frac{\\partial u(x,t)}{\\partial t}$$\n",
    "where \n",
    "$$t>0, x \\in [0,L]$$\n",
    "and with the initial conditions at $t=0$ as \n",
    "$$ u(x,0)=\\sin(\\pi x), \\quad 0<x<L$$\n",
    "The boundary conditions are \n",
    "$$u(0,t)=0, \\quad t\\geq 0 $$ \n",
    "$$u(L,t)=0, \\quad t\\geq 0 $$ \n",
    "\n",
    "The derivation of the schemes are found in the report"
   ]
  },
  {
   "cell_type": "markdown",
   "metadata": {},
   "source": [
    "First off, let's import the modules. "
   ]
  },
  {
   "cell_type": "code",
   "execution_count": 1,
   "metadata": {},
   "outputs": [
    {
     "name": "stderr",
     "output_type": "stream",
     "text": [
      "/home/msismail/.local/lib/python3.6/site-packages/tensorflow/python/framework/dtypes.py:516: FutureWarning: Passing (type, 1) or '1type' as a synonym of type is deprecated; in a future version of numpy, it will be understood as (type, (1,)) / '(1,)type'.\n",
      "  _np_qint8 = np.dtype([(\"qint8\", np.int8, 1)])\n",
      "/home/msismail/.local/lib/python3.6/site-packages/tensorflow/python/framework/dtypes.py:517: FutureWarning: Passing (type, 1) or '1type' as a synonym of type is deprecated; in a future version of numpy, it will be understood as (type, (1,)) / '(1,)type'.\n",
      "  _np_quint8 = np.dtype([(\"quint8\", np.uint8, 1)])\n",
      "/home/msismail/.local/lib/python3.6/site-packages/tensorflow/python/framework/dtypes.py:518: FutureWarning: Passing (type, 1) or '1type' as a synonym of type is deprecated; in a future version of numpy, it will be understood as (type, (1,)) / '(1,)type'.\n",
      "  _np_qint16 = np.dtype([(\"qint16\", np.int16, 1)])\n",
      "/home/msismail/.local/lib/python3.6/site-packages/tensorflow/python/framework/dtypes.py:519: FutureWarning: Passing (type, 1) or '1type' as a synonym of type is deprecated; in a future version of numpy, it will be understood as (type, (1,)) / '(1,)type'.\n",
      "  _np_quint16 = np.dtype([(\"quint16\", np.uint16, 1)])\n",
      "/home/msismail/.local/lib/python3.6/site-packages/tensorflow/python/framework/dtypes.py:520: FutureWarning: Passing (type, 1) or '1type' as a synonym of type is deprecated; in a future version of numpy, it will be understood as (type, (1,)) / '(1,)type'.\n",
      "  _np_qint32 = np.dtype([(\"qint32\", np.int32, 1)])\n",
      "/home/msismail/.local/lib/python3.6/site-packages/tensorflow/python/framework/dtypes.py:525: FutureWarning: Passing (type, 1) or '1type' as a synonym of type is deprecated; in a future version of numpy, it will be understood as (type, (1,)) / '(1,)type'.\n",
      "  np_resource = np.dtype([(\"resource\", np.ubyte, 1)])\n",
      "/home/msismail/.local/lib/python3.6/site-packages/tensorboard/compat/tensorflow_stub/dtypes.py:541: FutureWarning: Passing (type, 1) or '1type' as a synonym of type is deprecated; in a future version of numpy, it will be understood as (type, (1,)) / '(1,)type'.\n",
      "  _np_qint8 = np.dtype([(\"qint8\", np.int8, 1)])\n",
      "/home/msismail/.local/lib/python3.6/site-packages/tensorboard/compat/tensorflow_stub/dtypes.py:542: FutureWarning: Passing (type, 1) or '1type' as a synonym of type is deprecated; in a future version of numpy, it will be understood as (type, (1,)) / '(1,)type'.\n",
      "  _np_quint8 = np.dtype([(\"quint8\", np.uint8, 1)])\n",
      "/home/msismail/.local/lib/python3.6/site-packages/tensorboard/compat/tensorflow_stub/dtypes.py:543: FutureWarning: Passing (type, 1) or '1type' as a synonym of type is deprecated; in a future version of numpy, it will be understood as (type, (1,)) / '(1,)type'.\n",
      "  _np_qint16 = np.dtype([(\"qint16\", np.int16, 1)])\n",
      "/home/msismail/.local/lib/python3.6/site-packages/tensorboard/compat/tensorflow_stub/dtypes.py:544: FutureWarning: Passing (type, 1) or '1type' as a synonym of type is deprecated; in a future version of numpy, it will be understood as (type, (1,)) / '(1,)type'.\n",
      "  _np_quint16 = np.dtype([(\"quint16\", np.uint16, 1)])\n",
      "/home/msismail/.local/lib/python3.6/site-packages/tensorboard/compat/tensorflow_stub/dtypes.py:545: FutureWarning: Passing (type, 1) or '1type' as a synonym of type is deprecated; in a future version of numpy, it will be understood as (type, (1,)) / '(1,)type'.\n",
      "  _np_qint32 = np.dtype([(\"qint32\", np.int32, 1)])\n",
      "/home/msismail/.local/lib/python3.6/site-packages/tensorboard/compat/tensorflow_stub/dtypes.py:550: FutureWarning: Passing (type, 1) or '1type' as a synonym of type is deprecated; in a future version of numpy, it will be understood as (type, (1,)) / '(1,)type'.\n",
      "  np_resource = np.dtype([(\"resource\", np.ubyte, 1)])\n"
     ]
    }
   ],
   "source": [
    "import numpy as np\n",
    "import matplotlib.pyplot as plt\n",
    "from mpl_toolkits.mplot3d import Axes3D\n",
    "from matplotlib.ticker import LinearLocator, FormatStrFormatter\n",
    "from matplotlib.pyplot import cm\n",
    "import tensorflow as tf\n",
    "import seaborn as sns\n",
    "from tqdm import tqdm\n",
    "from matplotlib import rc\n",
    "rc('font', **{'family': 'serif', 'serif': ['Computer Modern']})\n",
    "rc('text', usetex=True)\n",
    "rc('font', family='serif')\n",
    "plt.rcParams.update({'font.size': 12}) # Setting all font sizes\n",
    "\n"
   ]
  },
  {
   "cell_type": "markdown",
   "metadata": {},
   "source": [
    " "
   ]
  },
  {
   "cell_type": "markdown",
   "metadata": {},
   "source": [
    "## Different PDE-solvers"
   ]
  },
  {
   "cell_type": "markdown",
   "metadata": {},
   "source": [
    "Here we have implemented different PDE-solvers. Choose the correct step length, and run the rest of the cells for optimal execution."
   ]
  },
  {
   "cell_type": "code",
   "execution_count": 2,
   "metadata": {},
   "outputs": [
    {
     "name": "stdout",
     "output_type": "stream",
     "text": [
      "Which step size of Delta x do you want to run\n",
      "dx = 0.1: Write: '0.1' \n",
      "dx = 0.01: Write: '0.01' \n",
      "0.01\n"
     ]
    }
   ],
   "source": [
    "import numpy, sys, math\n",
    "from  matplotlib import pyplot as plt\n",
    "from mpl_toolkits.mplot3d import Axes3D\n",
    "from matplotlib.ticker import LinearLocator, FormatStrFormatter\n",
    "from matplotlib.pyplot import cm\n",
    "import numpy as np\n",
    "import os\n",
    "\n",
    "from PDE_solvers import *\n",
    "\n",
    "print(\"Which step size of Delta x do you want to run\")\n",
    "print(\"dx = 0.1: Write: '0.1' \")\n",
    "print(\"dx = 0.01: Write: '0.01' \")\n",
    "\n",
    "# Step length in x\n",
    "dx      =   float(input())\n",
    "\n",
    "# Number of integration points along x-axis\n",
    "N       =   int(1.0/dx)\n",
    "\n",
    "# Step length in time\n",
    "dt      =   0.5*dx*dx\n",
    "# Number of time steps till final time\n",
    "T       =   int(1.0/dt)\n",
    "\n",
    "L = 1\n",
    "x = numpy.linspace (0,1,N+2)\n",
    "t = np.linspace(0,1,T)\n",
    "alpha = dt/(dx**2)"
   ]
  },
  {
   "cell_type": "markdown",
   "metadata": {},
   "source": [
    "### Forward Euler  "
   ]
  },
  {
   "cell_type": "code",
   "execution_count": 3,
   "metadata": {},
   "outputs": [],
   "source": [
    "\n",
    "\n",
    "uf = np.zeros((t.size,x.size))\n",
    "\n",
    "\n",
    "#Initial codition\n",
    "uf[0,:] = g(x)\n",
    "uf[0,0] = uf[0,N+1] = 0.0 #Implement boundaries rigidly\n",
    "\n",
    "forward_euler(alpha,uf,N,T)"
   ]
  },
  {
   "cell_type": "markdown",
   "metadata": {},
   "source": [
    "### Backward Euler"
   ]
  },
  {
   "cell_type": "code",
   "execution_count": 4,
   "metadata": {},
   "outputs": [],
   "source": [
    "ub = np.zeros((t.size,x.size))\n",
    "\n",
    "\n",
    "#Initial codition\n",
    "ub[0,:] = g(x)\n",
    "ub[0,0] = ub[0,N+1] = 0.0 #Implement boundaries rigidly\n",
    "\n",
    "backward_euler(alpha,ub,N,T)"
   ]
  },
  {
   "cell_type": "markdown",
   "metadata": {},
   "source": [
    "### Crank-Nicholsen"
   ]
  },
  {
   "cell_type": "code",
   "execution_count": 5,
   "metadata": {},
   "outputs": [],
   "source": [
    "uc = np.zeros((t.size,x.size))\n",
    "\n",
    "\n",
    "#Initial codition\n",
    "uc[0,:] = g(x)\n",
    "uc[0,0] = uc[0,N+1] = 0.0 #Implement boundaries rigidly\n",
    "\n",
    "crank_nicolson(alpha,uc,N,T)"
   ]
  },
  {
   "cell_type": "markdown",
   "metadata": {},
   "source": [
    "\n",
    "# Neural Network solver"
   ]
  },
  {
   "cell_type": "markdown",
   "metadata": {},
   "source": [
    "The Neural Network does not follow the stability criteria as the rest of the implemented methods. For the neural network we have implemented the criteria $dt = dx$. The reason for this is simply that the run time required to execute the neural network for $dt = 0.5dx^2$ would be too long and need of large memory. Therefore, if you are running this code for $dx = 0.01$, decrease the number of iterations of the neural network, cause for $10^6$ number of iterations the runtime for NN is approximately 2 hours."
   ]
  },
  {
   "cell_type": "code",
   "execution_count": null,
   "metadata": {},
   "outputs": [
    {
     "name": "stdout",
     "output_type": "stream",
     "text": [
      "\n",
      " The PDE solver you are executing is:\n",
      "Deep Neural Network with 1 layer\n",
      "WARNING:tensorflow:From /home/msismail/UiO/Master/Høst2019/FYS-STK4155/Oliver/project3/PDE_solvers.py:47: The name tf.variable_scope is deprecated. Please use tf.compat.v1.variable_scope instead.\n",
      "\n",
      "WARNING:tensorflow:From /home/msismail/UiO/Master/Høst2019/FYS-STK4155/Oliver/project3/PDE_solvers.py:53: dense (from tensorflow.python.layers.core) is deprecated and will be removed in a future version.\n",
      "Instructions for updating:\n",
      "Use keras.layers.dense instead.\n",
      "WARNING:tensorflow:From /home/msismail/.local/lib/python3.6/site-packages/tensorflow/python/ops/init_ops.py:1251: calling VarianceScaling.__init__ (from tensorflow.python.ops.init_ops) with dtype is deprecated and will be removed in a future version.\n",
      "Instructions for updating:\n",
      "Call initializer instance with the dtype argument instead of passing it to the constructor\n",
      "WARNING:tensorflow:Entity <bound method Dense.call of <tensorflow.python.layers.core.Dense object at 0x7f62713cfc50>> could not be transformed and will be executed as-is. Please report this to the AutgoGraph team. When filing the bug, set the verbosity to 10 (on Linux, `export AUTOGRAPH_VERBOSITY=10`) and attach the full output. Cause: converting <bound method Dense.call of <tensorflow.python.layers.core.Dense object at 0x7f62713cfc50>>: AssertionError: Bad argument number for Name: 3, expecting 4\n",
      "WARNING: Entity <bound method Dense.call of <tensorflow.python.layers.core.Dense object at 0x7f62713cfc50>> could not be transformed and will be executed as-is. Please report this to the AutgoGraph team. When filing the bug, set the verbosity to 10 (on Linux, `export AUTOGRAPH_VERBOSITY=10`) and attach the full output. Cause: converting <bound method Dense.call of <tensorflow.python.layers.core.Dense object at 0x7f62713cfc50>>: AssertionError: Bad argument number for Name: 3, expecting 4\n",
      "WARNING:tensorflow:Entity <bound method Dense.call of <tensorflow.python.layers.core.Dense object at 0x7f62713cfc50>> could not be transformed and will be executed as-is. Please report this to the AutgoGraph team. When filing the bug, set the verbosity to 10 (on Linux, `export AUTOGRAPH_VERBOSITY=10`) and attach the full output. Cause: converting <bound method Dense.call of <tensorflow.python.layers.core.Dense object at 0x7f62713cfc50>>: AssertionError: Bad argument number for Name: 3, expecting 4\n",
      "WARNING: Entity <bound method Dense.call of <tensorflow.python.layers.core.Dense object at 0x7f62713cfc50>> could not be transformed and will be executed as-is. Please report this to the AutgoGraph team. When filing the bug, set the verbosity to 10 (on Linux, `export AUTOGRAPH_VERBOSITY=10`) and attach the full output. Cause: converting <bound method Dense.call of <tensorflow.python.layers.core.Dense object at 0x7f62713cfc50>>: AssertionError: Bad argument number for Name: 3, expecting 4\n",
      "WARNING:tensorflow:From /home/msismail/UiO/Master/Høst2019/FYS-STK4155/Oliver/project3/PDE_solvers.py:70: The name tf.losses.mean_squared_error is deprecated. Please use tf.compat.v1.losses.mean_squared_error instead.\n",
      "\n",
      "WARNING:tensorflow:From /home/msismail/.local/lib/python3.6/site-packages/tensorflow/python/ops/losses/losses_impl.py:121: add_dispatch_support.<locals>.wrapper (from tensorflow.python.ops.array_ops) is deprecated and will be removed in a future version.\n",
      "Instructions for updating:\n",
      "Use tf.where in 2.0, which has the same broadcast rule as np.where\n",
      "WARNING:tensorflow:From /home/msismail/UiO/Master/Høst2019/FYS-STK4155/Oliver/project3/PDE_solvers.py:77: The name tf.train.AdamOptimizer is deprecated. Please use tf.compat.v1.train.AdamOptimizer instead.\n",
      "\n",
      "WARNING:tensorflow:From /home/msismail/UiO/Master/Høst2019/FYS-STK4155/Oliver/project3/PDE_solvers.py:80: The name tf.global_variables_initializer is deprecated. Please use tf.compat.v1.global_variables_initializer instead.\n",
      "\n",
      "WARNING:tensorflow:From /home/msismail/UiO/Master/Høst2019/FYS-STK4155/Oliver/project3/PDE_solvers.py:86: The name tf.Session is deprecated. Please use tf.compat.v1.Session instead.\n",
      "\n"
     ]
    },
    {
     "name": "stderr",
     "output_type": "stream",
     "text": [
      "  6%|▋         | 629/10000 [00:53<12:49, 12.19it/s]"
     ]
    }
   ],
   "source": [
    "# Defining variables\n",
    "num_iter = 10000 # Number of iterations\n",
    "num_hidden_neurons = [90] # Number of hidden neurons in each layer\n",
    "string = \"Adam\" # Choosing which Gradient Descent to use, eihter Adam or GD\n",
    "learning_rate = 0.0  # When using Adam as GD learning_rate is not needed, but when GD is used a learning_rate needs to be specified\n",
    "\n",
    "\n",
    "print(\"\\n The PDE solver you are executing is:\")\n",
    "print(\"Deep Neural Network with %d layer\" %len(num_hidden_neurons))\n",
    "\n",
    "T1, x_mesh, t_mesh, u_dnn = NN_PDE(dx, num_iter, num_hidden_neurons, string, learning_rate)"
   ]
  },
  {
   "cell_type": "markdown",
   "metadata": {},
   "source": [
    "# Analytical Solution"
   ]
  },
  {
   "cell_type": "code",
   "execution_count": null,
   "metadata": {},
   "outputs": [],
   "source": [
    "x_analytic, t_analytic = np.meshgrid(x,t)\n",
    "x_analytic = x_analytic.ravel()\n",
    "t_analytic = t_analytic.ravel()\n",
    "\n",
    "analytic = np.exp(-np.pi**2*t_analytic)*np.sin(np.pi*x_analytic)\n",
    "Analytic = analytic.reshape((int(1.0/dt),int(1.0/dx)+2))"
   ]
  },
  {
   "cell_type": "markdown",
   "metadata": {},
   "source": [
    "### Plotting"
   ]
  },
  {
   "cell_type": "code",
   "execution_count": null,
   "metadata": {},
   "outputs": [],
   "source": [
    "\n",
    "x,t = np.meshgrid(x,t)\n",
    "\n",
    "\n",
    "fig = plt.figure();\n",
    "ax = fig.gca(projection='3d');\n",
    "# Plot the surface.\n",
    "surf = ax.plot_surface(x, t, Analytic, cmap=cm.coolwarm,\n",
    "                   linewidth=0, antialiased=False);\n",
    "                   # Customize the z axis.\n",
    "ax.set_zlim(-0.10, 1.40);\n",
    "for angle in range(0,150):\n",
    "    ax.view_init(40,angle)\n",
    "ax.zaxis.set_major_locator(LinearLocator(10));\n",
    "ax.zaxis.set_major_formatter(FormatStrFormatter('%.02f'));\n",
    "plt.xlabel('Position $x$')\n",
    "plt.ylabel('Time $t$')\n",
    "plt.title(\"Analytic\")\n",
    "plt.show()\n",
    "\n",
    "\n",
    "fig = plt.figure();\n",
    "ax = fig.gca(projection='3d');\n",
    "# Plot the surface.\n",
    "surf = ax.plot_surface(x, t, uf, cmap=cm.coolwarm,\n",
    "                   linewidth=0, antialiased=False);\n",
    "                   # Customize the z axis.\n",
    "ax.set_zlim(-0.10, 1.40);\n",
    "for angle in range(0,150):\n",
    "    ax.view_init(40,angle)\n",
    "ax.zaxis.set_major_locator(LinearLocator(10));\n",
    "ax.zaxis.set_major_formatter(FormatStrFormatter('%.02f'));\n",
    "plt.xlabel('Position $x$')\n",
    "plt.ylabel('Time $t$')\n",
    "plt.title(\"Forward Euler\")\n",
    "plt.show()\n",
    "\n",
    "fig = plt.figure();\n",
    "ax = fig.gca(projection='3d');\n",
    "# Plot the surface.\n",
    "surf = ax.plot_surface(x, t, ub, cmap=cm.coolwarm,\n",
    "                   linewidth=0, antialiased=False);\n",
    "                   # Customize the z axis.\n",
    "ax.set_zlim(-0.10, 1.40);\n",
    "for angle in range(0,150):\n",
    "    ax.view_init(40,angle)\n",
    "ax.zaxis.set_major_locator(LinearLocator(10));\n",
    "ax.zaxis.set_major_formatter(FormatStrFormatter('%.02f'));\n",
    "plt.xlabel('Position $x$')\n",
    "plt.ylabel('Time $t$')\n",
    "plt.title(\"Backward Euler\")\n",
    "plt.show()\n",
    "\n",
    "fig = plt.figure();\n",
    "ax = fig.gca(projection='3d');\n",
    "# Plot the surface.\n",
    "surf = ax.plot_surface(x, t, uc, cmap=cm.coolwarm,\n",
    "                   linewidth=0, antialiased=False);\n",
    "                   # Customize the z axis.\n",
    "ax.set_zlim(-0.10, 1.40);\n",
    "for angle in range(0,150):\n",
    "    ax.view_init(40,angle)\n",
    "ax.zaxis.set_major_locator(LinearLocator(10));\n",
    "ax.zaxis.set_major_formatter(FormatStrFormatter('%.02f'));\n",
    "plt.xlabel('Position $x$')\n",
    "plt.ylabel('Time $t$')\n",
    "plt.title(\"Crank-Nicolson\")\n",
    "plt.show()\n",
    "\n",
    "\n",
    "fig = plt.figure();\n",
    "ax = fig.gca(projection='3d');\n",
    "# Plot the surface.\n",
    "surf = ax.plot_surface(x_mesh, t_mesh, u_dnn, cmap=cm.coolwarm,\n",
    "                   linewidth=0, antialiased=False);\n",
    "                   # Customize the z axis.\n",
    "ax.set_zlim(-0.10, 1.40);\n",
    "for angle in range(0,150):\n",
    "    ax.view_init(40,angle)\n",
    "ax.zaxis.set_major_locator(LinearLocator(10));\n",
    "ax.zaxis.set_major_formatter(FormatStrFormatter('%.02f'));\n",
    "plt.xlabel('Position $x$')\n",
    "plt.ylabel('Time $t$')\n",
    "ax.set_title('Deep Neural Network with %d layer'%len(num_hidden_neurons))\n",
    "plt.show()\n",
    "\n",
    "\n",
    "x_analytic = np.linspace(0,L, N+2)\n",
    "analytic = np.sin(np.pi*x_analytic)*np.exp(-np.pi**2*t[0][0])\n",
    "fig = plt.figure();\n",
    "plt.title(\"Numerical vs analytical solution for t = 0\")\n",
    "plt.plot(x[0], uf[0], \".\")\n",
    "plt.plot(x[0], ub[0], \".\")\n",
    "plt.plot(x[0], uc[0], \".\")\n",
    "plt.plot(x_mesh[0], u_dnn[0], \".\")\n",
    "plt.plot(x_analytic, analytic)\n",
    "plt.legend([\"FE\", \"BE\", \"CN\", \"DNN\", \"Analytic\"])\n",
    "\n",
    "plt.show()\n",
    "\n",
    "print(\"\\n Time = 0.0\")\n",
    "print(\"\\n Max absolute difference between Forward Euler & Analytic = \")\n",
    "print(np.max(abs(uf[0]-analytic)))\n",
    "\n",
    "print(\"\\n Max absolute difference between Backward Euler & Analytic = \")\n",
    "print(np.max(abs(ub[0]-analytic)))\n",
    "\n",
    "print(\"\\n Max absolute difference between Crank-Nicolson & Analytic = \")\n",
    "print(np.max(abs(uc[0]-analytic)))\n",
    "\n",
    "print(\"\\n Max absolute difference between Deep Neural Network & Analytic = \")\n",
    "print(np.max(abs(u_dnn[0]-analytic)))\n",
    "\n",
    "analytic = np.sin(np.pi*x_analytic)*np.exp(-np.pi**2*t[int(T/2)][0])\n",
    "fig = plt.figure();\n",
    "plt.title(\"Numerical vs analytical solution for t = 0.5\")\n",
    "plt.plot(x[0], uf[int(T/2)], \".\")\n",
    "plt.plot(x[0], ub[int(T/2)], \".\")\n",
    "plt.plot(x[0], uc[int(T/2)], \".\")\n",
    "plt.plot(x_mesh[0], u_dnn[int(T1/2)], \".\")\n",
    "plt.plot(x_analytic, analytic)\n",
    "plt.legend([\"FE\", \"BE\", \"CN\", \"NN\", \"Analytic\"])\n",
    "plt.show()\n",
    "\n",
    "print(\"\\n Time = 0.5\")\n",
    "print(\"\\n Max absolute difference between Forward Euler & Analytic = \")\n",
    "print(np.max(abs(uf[int(T/2)]-analytic)))\n",
    "\n",
    "print(\"\\n Max absolute difference between Backward Euler & Analytic = \")\n",
    "print(np.max(abs(ub[int(T/2)]-analytic)))\n",
    "\n",
    "print(\"\\n Max absolute difference between Crank-Nicolson & Analytic = \")\n",
    "print(np.max(abs(uc[int(T/2)]-analytic)))\n",
    "\n",
    "print(\"\\n Max absolute difference between Deep Neural Network & Analytic = \")\n",
    "print(np.max(abs(u_dnn[int(T1/2)]-analytic)))\n",
    "\n",
    "analytic = np.sin(np.pi*x_analytic)*np.exp(-np.pi**2*t[T-1][0])\n",
    "fig = plt.figure();\n",
    "plt.title(\"Numerical vs analytical solution for t = 1\")\n",
    "plt.plot(x[0], uf[T-1], \".\")\n",
    "plt.plot(x[0], ub[T-1], \".\")\n",
    "plt.plot(x[0], uc[T-1], \".\")\n",
    "plt.plot(x_mesh[0], u_dnn[T1-1], \".\")\n",
    "plt.plot(x_analytic, analytic)\n",
    "plt.legend([\"FE\", \"BE\", \"CN\", \"NN\", \"Analytic\"])\n",
    "plt.show()\n",
    "\n",
    "print(\"\\n Time = 1.0\")\n",
    "print(\"\\n Max absolute difference between Forward Euler & Analytic = \")\n",
    "print(np.max(abs(uf[T-1]-analytic)))\n",
    "\n",
    "print(\"\\n Max absolute difference between Backward Euler & Analytic = \")\n",
    "print(np.max(abs(ub[T-1]-analytic)))\n",
    "\n",
    "print(\"\\n Max absolute difference between Crank-Nicolson & Analytic = \")\n",
    "print(np.max(abs(uc[T-1]-analytic)))\n",
    "\n",
    "print(\"\\n Max absolute difference between Deep Neural Network & Analytic = \")\n",
    "print(np.max(abs(u_dnn[T1-1]-analytic)))\n"
   ]
  }
 ],
 "metadata": {
  "kernelspec": {
   "display_name": "Python 3",
   "language": "python",
   "name": "python3"
  },
  "language_info": {
   "codemirror_mode": {
    "name": "ipython",
    "version": 3
   },
   "file_extension": ".py",
   "mimetype": "text/x-python",
   "name": "python",
   "nbconvert_exporter": "python",
   "pygments_lexer": "ipython3",
   "version": "3.6.9"
  }
 },
 "nbformat": 4,
 "nbformat_minor": 2
}
